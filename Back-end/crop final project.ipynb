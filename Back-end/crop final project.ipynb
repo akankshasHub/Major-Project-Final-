{
 "cells": [
  {
   "cell_type": "code",
   "execution_count": null,
   "id": "5462cc87-379a-4a53-b202-b011a2631333",
   "metadata": {},
   "outputs": [],
   "source": [
    "import pandas as pd\n",
    "\n",
    "\n"
   ]
  },
  {
   "cell_type": "code",
   "execution_count": null,
   "id": "6023926c-6527-4376-925b-2a1c5e310b2a",
   "metadata": {},
   "outputs": [],
   "source": [
    "df= pd.read_csv('Crop_recommendation.csv')\n",
    "df.head(6)"
   ]
  },
  {
   "cell_type": "code",
   "execution_count": null,
   "id": "6f7b0dc9-29de-4602-a028-8545fbe63a9f",
   "metadata": {},
   "outputs": [],
   "source": [
    "df.isnull()"
   ]
  },
  {
   "cell_type": "code",
   "execution_count": null,
   "id": "b9b99c42-6deb-4a6a-bc2b-f5ac5790e3f5",
   "metadata": {},
   "outputs": [],
   "source": [
    "df.isnull().sum()"
   ]
  },
  {
   "cell_type": "code",
   "execution_count": null,
   "id": "e8f7b1b1-7fc3-404d-bf0f-21405d717151",
   "metadata": {},
   "outputs": [],
   "source": [
    "df.info()"
   ]
  },
  {
   "cell_type": "code",
   "execution_count": null,
   "id": "3f2d7c88-f1e2-4cc6-8f59-4addb44adba4",
   "metadata": {},
   "outputs": [],
   "source": [
    "df['label'].value_counts()"
   ]
  },
  {
   "cell_type": "code",
   "execution_count": null,
   "id": "2440b536-b39a-4bc2-a0c0-b5411a0a6303",
   "metadata": {},
   "outputs": [],
   "source": [
    "x=df.drop('label', axis=1)\n",
    "y=df['label']"
   ]
  },
  {
   "cell_type": "code",
   "execution_count": null,
   "id": "d9981583-8cab-4cb9-8907-24135fc0fb3f",
   "metadata": {},
   "outputs": [],
   "source": [
    "x.info()"
   ]
  },
  {
   "cell_type": "code",
   "execution_count": null,
   "id": "02461bb3-48a6-4756-be84-44887137386a",
   "metadata": {},
   "outputs": [],
   "source": [
    "y.info()"
   ]
  },
  {
   "cell_type": "code",
   "execution_count": null,
   "id": "164fdd24-58ea-4e77-a69f-68c3b15e8ad7",
   "metadata": {},
   "outputs": [],
   "source": [
    "from sklearn.model_selection import train_test_split\n",
    "x_train, x_test, y_train, y_test = train_test_split(x,y, random_state =1, test_size=0.2)"
   ]
  },
  {
   "cell_type": "code",
   "execution_count": null,
   "id": "8942f6d7-9664-43c1-8c19-ce90530cc004",
   "metadata": {},
   "outputs": [],
   "source": [
    "x_train.info()"
   ]
  },
  {
   "cell_type": "code",
   "execution_count": null,
   "id": "c9836ac7-d7d5-4ebf-b6ae-3d711d265956",
   "metadata": {},
   "outputs": [],
   "source": [
    "x_test.info()"
   ]
  },
  {
   "cell_type": "code",
   "execution_count": null,
   "id": "c67f6276-5527-44e4-80bc-f3648f0be8bf",
   "metadata": {},
   "outputs": [],
   "source": [
    "y_train.info()"
   ]
  },
  {
   "cell_type": "code",
   "execution_count": null,
   "id": "0988fdfb-e09c-4886-9327-08c5e92d668a",
   "metadata": {},
   "outputs": [],
   "source": [
    "from sklearn.linear_model import LogisticRegression "
   ]
  },
  {
   "cell_type": "code",
   "execution_count": null,
   "id": "2f22808e-acd2-43b3-8243-03495bc73ffc",
   "metadata": {},
   "outputs": [],
   "source": [
    "model=LogisticRegression()\n",
    "model.fit(x_train, y_train)\n"
   ]
  },
  {
   "cell_type": "code",
   "execution_count": null,
   "id": "22d35487-c6a7-4431-a048-ec7beec1325f",
   "metadata": {},
   "outputs": [],
   "source": [
    "y_pred1=model.predict(x_test)"
   ]
  },
  {
   "cell_type": "code",
   "execution_count": null,
   "id": "c8be5aa9-207d-4c29-85c6-942b8e9c39b8",
   "metadata": {},
   "outputs": [],
   "source": [
    "from sklearn.metrics import accuracy_score\n",
    "logistic_reg_acc=accuracy_score(y_test, y_pred1)\n",
    "print(\"logistic accuray is\"+str(logistic_reg_acc))"
   ]
  },
  {
   "cell_type": "code",
   "execution_count": null,
   "id": "62c16785-705d-4506-8d5e-533ce426d4e3",
   "metadata": {},
   "outputs": [],
   "source": [
    "from sklearn.tree import DecisionTreeClassifier\n",
    "model2=DecisionTreeClassifier()\n",
    "model2.fit(x_train, y_train)\n",
    "y_pred3=model2.predict(x_test)"
   ]
  },
  {
   "cell_type": "code",
   "execution_count": null,
   "id": "488fd09c-d33d-4838-9c6b-48572c203a4b",
   "metadata": {},
   "outputs": [],
   "source": [
    "\n",
    "decision_acc=accuracy_score(y_test, y_pred3)\n",
    "print(\"Decision Tree accuracy is\"+str(decision_acc))"
   ]
  },
  {
   "cell_type": "code",
   "execution_count": null,
   "id": "19789158-9c57-44c8-9996-7b0cfbc7c882",
   "metadata": {},
   "outputs": [],
   "source": [
    "from sklearn.ensemble import RandomForestClassifier\n"
   ]
  },
  {
   "cell_type": "code",
   "execution_count": null,
   "id": "04f0082c-10f5-4b6b-9530-76fda1110854",
   "metadata": {},
   "outputs": [],
   "source": [
    "model3=RandomForestClassifier()\n",
    "model3.fit(x_train, y_train)\n",
    "y_pred4=model3.predict(x_test)"
   ]
  },
  {
   "cell_type": "code",
   "execution_count": null,
   "id": "1e424ecb-4776-400f-a1ce-6ef30299e0be",
   "metadata": {},
   "outputs": [],
   "source": [
    "ramdom_acc=accuracy_score(y_test, y_pred4)\n",
    "print(\"Random Forest accuracy is\"+str(ramdom_acc))"
   ]
  },
  {
   "cell_type": "code",
   "execution_count": null,
   "id": "0478408e-ca0f-46c2-9d89-d0023feb5401",
   "metadata": {},
   "outputs": [],
   "source": [
    "import joblib"
   ]
  },
  {
   "cell_type": "code",
   "execution_count": null,
   "id": "d764a6cc-8f4b-4c69-a7fb-89d627217bf4",
   "metadata": {},
   "outputs": [],
   "source": [
    "filename='crop app'"
   ]
  },
  {
   "cell_type": "code",
   "execution_count": null,
   "id": "7fe5a838-5a80-4e09-9001-995ff121f300",
   "metadata": {},
   "outputs": [],
   "source": [
    "joblib.dump(model2, 'crop app')"
   ]
  },
  {
   "cell_type": "code",
   "execution_count": null,
   "id": "5c964152-ac0a-4491-a87b-44f27df88500",
   "metadata": {},
   "outputs": [],
   "source": [
    "app=joblib.load('crop app')"
   ]
  },
  {
   "cell_type": "code",
   "execution_count": null,
   "id": "2e8f8330-9425-4b2c-ba98-bfc239fd4b2f",
   "metadata": {},
   "outputs": [],
   "source": [
    "arr=[[80,21,55,28.469744,94.002744,6.502985,21.935536]]\n",
    "y_pred5=app.predict(arr)"
   ]
  },
  {
   "cell_type": "code",
   "execution_count": null,
   "id": "a9ad0f33-4a8a-4981-af5e-1b2b1d11ca62",
   "metadata": {},
   "outputs": [],
   "source": [
    "y_pred5"
   ]
  },
  {
   "cell_type": "code",
   "execution_count": null,
   "id": "131a258b-ef99-44d4-a658-fd69bd1d4375",
   "metadata": {},
   "outputs": [],
   "source": []
  }
 ],
 "metadata": {
  "kernelspec": {
   "display_name": "Python 3 (ipykernel)",
   "language": "python",
   "name": "python3"
  },
  "language_info": {
   "codemirror_mode": {
    "name": "ipython",
    "version": 3
   },
   "file_extension": ".py",
   "mimetype": "text/x-python",
   "name": "python",
   "nbconvert_exporter": "python",
   "pygments_lexer": "ipython3",
   "version": "3.12.3"
  }
 },
 "nbformat": 4,
 "nbformat_minor": 5
}
